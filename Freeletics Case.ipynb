{
 "cells": [
  {
   "cell_type": "markdown",
   "metadata": {},
   "source": [
    "# Freeletics: Senior Data Analyst Case\n",
    "Ravi Dayabhai"
   ]
  },
  {
   "cell_type": "code",
   "execution_count": 1,
   "metadata": {},
   "outputs": [],
   "source": [
    "### Import dependencies\n",
    "from random import random\n",
    "import numpy as np\n",
    "import pandas as pd\n",
    "import datetime\n",
    "import matplotlib.pyplot as plt\n",
    "from matplotlib.dates import DateFormatter\n",
    "from sklearn.linear_model import LinearRegression\n",
    "from pandas.plotting import register_matplotlib_converters\n",
    "from operator import itemgetter\n",
    "register_matplotlib_converters()\n",
    "\n",
    "### Random seed for QA/QC\n",
    "np.random.seed(18)"
   ]
  },
  {
   "cell_type": "markdown",
   "metadata": {},
   "source": [
    "## Problem: TV Ad Attribution"
   ]
  },
  {
   "cell_type": "markdown",
   "metadata": {},
   "source": [
    "The [simplified] problem we're faced with is trying to divine which \"organic\" registrations are _truely_ organic registrations versus those that are attributable to TV ads (of a particular variety in a particular market).\n",
    "\n",
    "A \"baseline + lift\" model assumes that there is some natural rate of registrations (i.e., base rate) per interval of time and that the residual registrations in an interval are due to exposure to a TV ad. But the choice of interval duration (what is called _ad effect time_ in the analysis below) is not immediately obvious. In a world where we could run an experiment to estimate lift or where the signal was very evident, simple heuristics might work (e.g., observing the data, inferring the lift, and applying a decision rule based on our inference).\n",
    "\n",
    "This notebook is a walk-through of my thinking and an attempt to use generated data (governed by known and established parameters) to illustrate the general process to distinguish lift from baseline registrations."
   ]
  },
  {
   "cell_type": "markdown",
   "metadata": {},
   "source": [
    "### Simplifying Assumptions\n",
    "\n",
    "Before we proceed any further, it's worth noting that a number of simplifying assumptions are being made in the subsequent analysis, some of which are listed below:\n",
    "\n",
    "- ignoring multichannel effects (e.g., watching TV doesn't result registering through another channel); only looking at direct effect in some time period after ad is run\n",
    "- \"last touch\" attribution assumes away any 'halo effect' from running multiple ads \n",
    "- organic registration is strictly a dichotomy of TV vs. non-TV (i.e., there aren't other channels driving organic registrations)\n",
    "- market/geo independence (e.g., TV ad in Germany doesn't cause registration in US)\n",
    "- the distribution of the ad effect, roughly, decays as time passes with the most number of registrations clustering near the ad runtime\n",
    "- we treat the ad effect time as the same for ads of different type (read: the lift may be substantially different for one type of ad versus another)\n",
    "\n",
    "Without structural knowledge of the underlying data or the ability to do any exploratory data analysis (EDA), which would likely consume at least half (if not more!) of the analysis process, this notion of a \"baseline + lift\" inspired an exploration of multiple linear regression on the time series of regressions.\n",
    "\n",
    "### General Approach\n",
    "\n",
    "**Important Note**: The simulated data set below picks up the algorithm after data pre-processing, namely after:\n",
    "\n",
    "- Inspecting the data, cleaning the data  doing EDA to get a feel for ad effects. \n",
    "- Partitioning the data by geography/market from registrations table (i.e., simulated data is for _one_ market)\n",
    "- Filtering out `is_organic = False` registrations from registrations table\n",
    "- Converting all date & time information to common timezone datetimes (e.g., UTC) in the ads table\n",
    "\n",
    "#### Estimating lift\n",
    "\n",
    "Given that we're trying to tease apart some natural base rate registrations in a given year versus the lift due to running a television advertisement, I want to see if a very simple model in a very simple scenario is able to do this -- I explore this in the subsequent section, but wanted to lay out my general approach here first:\n",
    "\n",
    "- For a given market, define $\\hat{y}_{t}$ as expected total registrations in time interval $t$ where the interval is length $m$ minutes (read: this is the “meta” parameter). Therefore, if I [arbitrarily] choose $m$ to be 1 day, then there will be 365 $t$s (because I broke up the entire year by day). $x$ is a binary variable (on each ad) that is $1$ when the ad is run in that interval$^1$ _t_ and $0$ otherwise.\n",
    "\n",
    "- For every choice of reasonable $m$ (EDA can give us a sense of what’s reasonable), the model is given by: \n",
    "\n",
    "$$\\hat{y}_t = \\beta_0 + \\beta_1 x_t, \\quad x_t = \\begin{cases} 1\\;\\text{if }t\\text{ contains ad exposure}\\\\ 0\\; \\text{if not}\\end{cases}$$ \n",
    "\n",
    "...where $\\beta_0$ is the base rate (assumed the same for all $t$ in the given year, 2018) and $\\beta_1$ is the lift. The units for both are the number of registrations in the interval defined by $m$.\n",
    "\n",
    "- To generalize, we can add more terms to the model corresponding to each ad variant in a particular market. For example, in a two ad variant world we would have estimators $\\beta_1$ for one ad type and $\\beta_2$ for the other type.\n",
    "\n",
    "- Linear regression via ordinary least squares for any particular choice of $m$ results in the best fit estimate for $\\beta_0$ and $\\beta_1$. Record the $R^2$ for given $m$ and repeat for different choices of $m$. The meta parameter $m$ that result in the model with the best $R^2$ yields a model with $\\beta_i$s that are good estimations for the lift due to ad type $i$.\n",
    "\n",
    "#### Deliverables\n",
    "\n",
    "We want to know **the proportion of registrations due to each ad type in a market** (for all markets) and **cost per registration**.\n",
    "\n",
    "A multiple linear regression model is useful for this because we can directly interpret the coefficients as how much lift is to be expected from each run of a particular ad type in a given market. Once we have these lift estimates (based on the model selection criterion laid out above):\n",
    "\n",
    "1. Muliply the number of runs of an ad type $i$ (found in the ads table) in the market in question by its associated lift, $\\beta_i$. This gives us the total number of registrations attributed to ad type $i$. Divide this by total registrations (found in registrations table) to get the first deliverable.\n",
    "\n",
    "2. For the second deliverable, we can use the total number of registrations calculated in Step #1 to serve as the denominator and the grouped sum of ad costs (found in the ads table) to be the numerator. This quotient is the cost-per-registration for ad type $i$.\n",
    "\n",
    "3. Repeat this for all ad types in a market.\n",
    "\n",
    "\n",
    "### Caveats & Considerations\n",
    "\n",
    "#### Smaller ad effect $\\implies$ Less signal, more noise\n",
    "\n",
    "This is obvious, but worth noting since I am running simulations without knowledge of how ads might impact registrations, empirically.\n",
    "\n",
    "#### \"Strict\" vs.\" Generous\" Assignment$^1$\n",
    "\n",
    "The outlined approach briefly touches on the definition of \"ad exposure.\" I explored two ways to do this determination: \"strict\" and \"generous\" assignments. \"Assignment\" describes whether the binary encodings in $X_t$ for each interval $t$ get labelled as `1` or a `0`.\n",
    "\n",
    "The **\"strict\" or non-\"generous\" assignment** is pretty straightforward and is the **default implementation in the simulations below**.\n",
    "\n",
    "1. Once we've chosen $m$, we partition the registration data into $t$ intervals. The observed outcome $Y$ is the number of registrations in each bin.\n",
    "2. $X^i_t = 1$ (read: \"for ad type $i$, $X$ in interval $t$ equals 1\") **only if** an ad of type $i$ runs in that interval, $t$. \n",
    "\n",
    "Depending on the $m$ chosen, the time intervals that enclose ad run times may or may not truly capture the extent of registrations due to the ad. In fact, it's likely to _under_-attribute registrations to lift (said another way, the _ex ante_ or _ex post_ intervals will tend to _over_-attribute registrations to the base rate.\n",
    "\n",
    "The **\"generous\" assignment** takes a more registrant-focused stance. \n",
    "\n",
    "1. For each choice of $m$, we label each registrant as being exposed to a given ad if the registration happened within $m$ units of time since the ad ran. A given registrant is assigned only one ad according to \"last touch,\" or the most recent ad to which a given registrant is most likely to have been exposed.\n",
    "2. $X^i_t = 1$ **if** a registrant of that ad type ($i$) registered in that interval, $t$. \n",
    "\n",
    "As demonstrated later in a multi-ad world (with different ad types), this method potentially minimizes error in such a way to penalize less effective ad types altogether (read: negative regression coefficients!) in favor of error reduction through overestimation of the base rate.\n",
    "\n",
    "#### Annoying discontinuities (from discrete choices of $m$)\n",
    "\n",
    "As observed in the simulations, there is a trade-off to be made between choice of $m$ and error in the estimate of $\\beta$s. As $m$ grows larger, we will generally get a better $R^2$ since the fewer number of intervals $t$ will likely \"bucket\" ad events (see _strict assignment_ above) in a way where the lift is adequately captured. This will result in choices of $m$ > $M$ and overestimation of the base rate with slight underestimation of ad effects.\n",
    "\n",
    "These discrete choices of $m$ will also result in unpredictable behavior of $R^2$ for a _specific_ choice of $m$ and the underlying data. What's important is that the decision rule of choosing the best $R^2$ over a large range of $m$s is preserved."
   ]
  },
  {
   "cell_type": "markdown",
   "metadata": {},
   "source": [
    "## Creating Ad Worlds\n",
    "\n",
    "I begin by laying the groundwork for modeling worlds where _organic_ registrations in a given market are due to only a base rate and lift from ads (possibly of varying types and frequencies).\n",
    "\n",
    "The following variables are the parameters for this universe (modifications here changes all worlds):"
   ]
  },
  {
   "cell_type": "code",
   "execution_count": 2,
   "metadata": {},
   "outputs": [],
   "source": [
    "### Parameters & variables\n",
    "M = 60\n",
    "BEG_YEAR_STR = '01.01.2018 00:00:00,00'\n",
    "END_YEAR_STR = '31.12.2018 23:59:59,999999'\n",
    "TIME_STR_FORMAT = '%d.%m.%Y %H:%M:%S,%f'\n",
    "TOTAL_BASE_REG = int(1e6)\n",
    "\n",
    "# Lift multiplier on base rates: e.g., ads drive LIFT_BR_MULT times registrations vs. base)\n",
    "LIFT_BR_MULT = 10\n",
    "\n",
    "## Datetime conversions\n",
    "beg_year = datetime.datetime.strptime(BEG_YEAR_STR, TIME_STR_FORMAT)\n",
    "end_year = datetime.datetime.strptime(END_YEAR_STR, TIME_STR_FORMAT)\n",
    "M_dt = datetime.timedelta(minutes=M)\n",
    "\n",
    "## The implied base rate (per interval size M)\n",
    "IMPLIED_BASERATE = TOTAL_BASE_REG*60*M / (end_year-beg_year).total_seconds()\n",
    "LIFT = int(LIFT_BR_MULT*IMPLIED_BASERATE)\n",
    "\n",
    "### Global base rate registrations for each M-minute interval\n",
    "BASERATE_DTS = (np.random.random(TOTAL_BASE_REG) * (end_year - beg_year)) + beg_year\n",
    "\n",
    "### Our choices of m; used in assessing results and plotting\n",
    "min_m_guess = 15\n",
    "max_m_guess = 300\n",
    "intv = 15\n",
    "\n",
    "### How we assign 1 or 0 to x_t: strict (False) or generous (True)\n",
    "GENEROUS_AD_TYPE_ENCODING = False"
   ]
  },
  {
   "cell_type": "markdown",
   "metadata": {},
   "source": [
    "Below, I've created a handful of useful objects to help model various scenarios:"
   ]
  },
  {
   "cell_type": "code",
   "execution_count": 3,
   "metadata": {},
   "outputs": [],
   "source": [
    "### Define an ad class so we can use it to simulate multiple ads\n",
    "class TVad():\n",
    "    \n",
    "    def __init__(self, label, lift_amount=LIFT, M=M, times_to_run=1):\n",
    "        self.label = label\n",
    "        self.lift_amount = lift_amount\n",
    "        self.M = M\n",
    "        self.M_dt = datetime.timedelta(minutes=M)\n",
    "        \n",
    "        # Select times ad will run\n",
    "        self.ad_runtimes = list((np.random.random(times_to_run) * (end_year - beg_year)) + beg_year)\n",
    "              \n",
    "        # Generate the timestamps for registrations due to ad\n",
    "        self.regs_due_to_ad = np.array([])\n",
    "        for ad_runtime in self.ad_runtimes:\n",
    "            lift_dts = (np.random.gamma(2, .08, lift_amount) * (M_dt)) + ad_runtime\n",
    "            self.regs_due_to_ad = np.append(self.regs_due_to_ad, lift_dts)\n",
    "        \n",
    "    ## Getters\n",
    "    def get_ad_effect_periods(self, m_guess):\n",
    "        ends = [beg + datetime.timedelta(minutes=M) for beg in self.ad_runtimes]\n",
    "        return list(zip(self.ad_runtimes, ends))\n",
    "    \n",
    "    def get_ad_runtimes(self):\n",
    "        return self.ad_runtimes\n",
    "        \n",
    "    def get_label(self):\n",
    "        return self.label\n",
    "    \n",
    "    def get_reg_times(self):\n",
    "        return self.regs_due_to_ad\n",
    "\n",
    "\n",
    "## HELPER FUNCTION: Sort ads by runtime\n",
    "def ad_run_sorter(ads_ran, m_guess_int):\n",
    "    '''\n",
    "    Returns each ad instance in form: [((dt_beg, dt_end), label), ... ]\n",
    "    '''\n",
    "    all_ad_runs = []\n",
    "    for ad in ads_ran:\n",
    "        ad_runs = list(zip(ad.get_ad_effect_periods(m_guess_int), [ad.get_label() for _ in ads_ran]))\n",
    "        all_ad_runs += ad_runs\n",
    "    return sorted(all_ad_runs, key=lambda x: x[0][0])\n",
    "\n",
    "\n",
    "### Takes registration dataframe as input and outputs one-hot encoded dataframe based on ad exposure\n",
    "def reg_df_encoder(df, m_guess_int, ads_ran, generous_ad_type_encoding=GENEROUS_AD_TYPE_ENCODING):\n",
    "    \n",
    "    ## Order the ads chronologically\n",
    "    ordered_ad_runtimes = ad_run_sorter(ads_ran, m_guess_int)\n",
    "    \n",
    "    ## Workaround to ensure that the first & last bin is always represented even if no registration present\n",
    "    # Create fake datum\n",
    "    dummy_datum = dict(zip(df.columns, [0 for cols in df.columns]))\n",
    "    dummy_datum['reg_time'] = beg_year\n",
    "    dummy_datum2 = {**dummy_datum}\n",
    "    dummy_datum2['reg_time'] = end_year\n",
    "    \n",
    "    ## Add fake datum\n",
    "    df = df.append(pd.DataFrame([dummy_datum, dummy_datum2]), sort=False, ignore_index=True).sort_values('reg_time').reset_index(drop=True)\n",
    "    \n",
    "    \n",
    "    ## If the encoding is generous do one hot encoding and cut by intervals...\n",
    "    if generous_ad_type_encoding:\n",
    "        '''\n",
    "        Encoded interval in cleaned df will yield 1 (positive exposure) for an ad\n",
    "        whenever interval contains ANY exposed registrations to said ad. \n",
    "        '''\n",
    "        \n",
    "        ## HELPER FUNCTION: Assigns registration to ad instance\n",
    "        def ad_type_encoder_generous(x, chron_ads):\n",
    "            ## Find the appropriate ad\n",
    "            try:\n",
    "                # Get the closest ad\n",
    "                relevant_ad = max([ad_i for ad_i in chron_ads if x > ad_i[0][0]], key = itemgetter(0,0))\n",
    "                # Return that ad string if within the estimated ad effect time, m\n",
    "                if (x > relevant_ad[0][0]) and (x <= relevant_ad[0][1]):\n",
    "                    return relevant_ad[1]\n",
    "                else:\n",
    "                    return np.nan\n",
    "            except ValueError:\n",
    "                return np.nan  \n",
    "    \n",
    "        ## Label the dataframe accordingly\n",
    "        df['ad_exposure'] = df['reg_time'].apply(ad_type_encoder_generous, args=(ordered_ad_runtimes,))\n",
    "\n",
    "        ## Put the data frame back together after one-hot encoding, drop ad_exposure column\n",
    "        df_dummies = pd.get_dummies(df['ad_exposure'])\n",
    "\n",
    "\n",
    "        df_clean = pd.concat([df.drop(columns=['ad_exposure']), df_dummies], axis=1).sort_values('reg_time').reset_index().drop(columns=['index'])\n",
    "        df_clean['Y'] = 1\n",
    "        \n",
    "        \n",
    "        df_clean['t'] = pd.cut(df['reg_time'], pd.date_range(start=beg_year, end=end_year + datetime.timedelta(milliseconds=1), freq=str(m_guess_int)+'Min'), right=False)\n",
    "        df_clean = df_clean.groupby('t').sum()\n",
    "\n",
    "        return df_clean\n",
    "    \n",
    "    ### ...otherwise encode after cut and assign encoding for each ad if ad run in interval.\n",
    "    else:\n",
    "        '''\n",
    "        Encoded interval in cleaned df will yield 1 (positive exposure) for an ad \n",
    "        ONLY if said ad runtime was in that interval.\n",
    "        '''\n",
    "        \n",
    "        # Do cut and grouping on intervals first\n",
    "        df['t'] = pd.cut(df['reg_time'], pd.date_range(start=beg_year, end=end_year + datetime.timedelta(milliseconds=1), freq=str(m_guess_int)+'Min'), right=False)\n",
    "        df['Y'] = 1\n",
    "        df = df.groupby('t').sum()\n",
    "         \n",
    "        # Build lookup table for apply function on interval column\n",
    "        keys = [ad.get_label () for ad in ads_run]\n",
    "        values = []\n",
    "        for k in keys:\n",
    "            v = [ad[0][0] for ad in ordered_ad_runtimes if k == ad[1]]\n",
    "            values.append(v)\n",
    "\n",
    "        ad_run_lookup = dict(zip(keys, values))\n",
    "\n",
    "        # Apply lookup function for each ad type\n",
    "        def ad_type_encoder_strict(x, ad_runtimes):\n",
    "            for ad_runtime in ad_runtimes:\n",
    "                if ad_runtime in x:\n",
    "                    return 1\n",
    "            return 0\n",
    "                \n",
    "        df = df.reset_index()\n",
    "        for ad_type, ad_runtimes in ad_run_lookup.items():\n",
    "            df[ad_type] = df['t'].apply(ad_type_encoder_strict, args=(ad_runtimes,))   \n",
    "        \n",
    "        return df.set_index('t')\n",
    "        \n",
    "        \n",
    "### Model fitting and evaluation function\n",
    "def multi_ad_model_fitter(df, m_guess_int, ads_ran, generous_ad_type_encoding=GENEROUS_AD_TYPE_ENCODING):\n",
    "    m_guess = datetime.timedelta(minutes = m_guess_int)\n",
    "    df = reg_df_encoder(df, m_guess_int, ads_ran, generous_ad_type_encoding)\n",
    "    \n",
    "    ## Normalize ad columns and split effect and response data for model fitting\n",
    "    X = df[[col for col in df.columns if col != 'Y']].apply(lambda s: 1*(s>0))\n",
    "    Y = df['Y']\n",
    "\n",
    "    ### Fit & return linear regression model\n",
    "    model = LinearRegression()\n",
    "    model.fit(X, Y)\n",
    "    return model, model.score(X.to_numpy(), Y.to_numpy()), X, Y\n",
    "\n",
    "\n",
    "### Function to yield plots, results dataframe, and actual input & output dataframes\n",
    "def plot_results(df, ads_ran, generous_ad_type_encoding=GENEROUS_AD_TYPE_ENCODING):\n",
    "    '''\n",
    "    Returns results dataframe and plots different choices of m against r-squared for OLS models.\n",
    "    '''\n",
    "    results = []\n",
    "    for m_guess in range(min_m_guess, max_m_guess+1, intv):\n",
    "        model, score, X, Y = multi_ad_model_fitter(df, m_guess, ads_ran, generous_ad_type_encoding)\n",
    "        results.append([m_guess, score, model.intercept_, dict(zip(X.columns, model.coef_))])\n",
    "\n",
    "    ## Put results into dataframe\n",
    "    results_df_coefs = pd.DataFrame([trial.pop() for trial in results])\n",
    "    results_df_others = pd.DataFrame(results, columns=['m_guess', 'r-sq', 'base_rate'])                   \n",
    "    results_df = results_df_others.join(results_df_coefs)\n",
    "\n",
    "    ## Plot\n",
    "    plt.plot(results_df['m_guess'], results_df['r-sq'])\n",
    "\n",
    "    # Red dashed line for actual ad effect time, M\n",
    "    plt.axvline(x=M, color='r', linestyle='--')\n",
    "    plt.show()\n",
    "\n",
    "    return results_df, X, Y"
   ]
  },
  {
   "cell_type": "markdown",
   "metadata": {},
   "source": [
    "## Single Ad World, a toy example\n",
    "The code below attempts to simulate a world where only one advertisement is run throughout the year. We know the ad effective time and the associated lift to be expected from the ad. We begin by seeing if a **simple linear model** for chosen approximations of the ad effective time (when selected on the basis of $R^2$ values) does a good job of determining the true ad effective time."
   ]
  },
  {
   "cell_type": "markdown",
   "metadata": {},
   "source": [
    "### Simulating registrations\n",
    "\n",
    "I build the _organic_ registration table for this _single_ market. Here (and in other worlds explored below) I'm assuming that the shape of the distribution governing the lift isn't uniform, but that the base rate of registrations throughout the year is."
   ]
  },
  {
   "cell_type": "code",
   "execution_count": 4,
   "metadata": {},
   "outputs": [],
   "source": [
    "### Create original ad\n",
    "## New ad only airs multiple times\n",
    "ad_1 = TVad('ad_1')\n",
    "\n",
    "## Reduce to one list of registration times\n",
    "ads_run = [ad_1]\n",
    "all_dts = [BASERATE_DTS] + [ad_x.get_reg_times() for ad_x in ads_run]\n",
    "\n",
    "### Put base registration and lift registration timestamps into dataframe\n",
    "df1 = pd.DataFrame(np.concatenate(all_dts), columns=['reg_time']).astype(\"datetime64\")"
   ]
  },
  {
   "cell_type": "markdown",
   "metadata": {},
   "source": [
    "The uniform distribution over the year from which registrations were drawn results in the following base rate (per period size $M$):"
   ]
  },
  {
   "cell_type": "code",
   "execution_count": 5,
   "metadata": {},
   "outputs": [
    {
     "data": {
      "text/plain": [
       "114"
      ]
     },
     "execution_count": 5,
     "metadata": {},
     "output_type": "execute_result"
    }
   ],
   "source": [
    "int(IMPLIED_BASERATE)"
   ]
  },
  {
   "cell_type": "markdown",
   "metadata": {},
   "source": [
    "The lift we should expect is:"
   ]
  },
  {
   "cell_type": "code",
   "execution_count": 6,
   "metadata": {},
   "outputs": [
    {
     "data": {
      "text/plain": [
       "1141"
      ]
     },
     "execution_count": 6,
     "metadata": {},
     "output_type": "execute_result"
    }
   ],
   "source": [
    "LIFT"
   ]
  },
  {
   "cell_type": "markdown",
   "metadata": {},
   "source": [
    "Let's take a look at our simulated data in \"Single Ad World.\""
   ]
  },
  {
   "cell_type": "code",
   "execution_count": 7,
   "metadata": {},
   "outputs": [
    {
     "data": {
      "image/png": "[encoded data removed]",
      "text/plain": [
       "<Figure size 432x288 with 1 Axes>"
      ]
     },
     "metadata": {
      "needs_background": "light"
     },
     "output_type": "display_data"
    },
    {
     "data": {
      "image/png": "[encoded data removed]",
      "text/plain": [
       "<Figure size 432x288 with 1 Axes>"
      ]
     },
     "metadata": {
      "needs_background": "light"
     },
     "output_type": "display_data"
    }
   ],
   "source": [
    "### Resampling \n",
    "\n",
    "## ...by day to make the plot easier to read\n",
    "df1['dummy'] = 1\n",
    "reg_per_day = df1.set_index('reg_time').resample('D').count()\n",
    "\n",
    "### ...for intervals around ad runtime, every two mins.\n",
    "ad_runtime = ad_1.get_ad_runtimes()[0]\n",
    "mask = (df1['reg_time'] > ad_runtime - 3*M_dt) & (df1['reg_time'] < ad_runtime + 3*M_dt)\n",
    "regs_around_ad_runtime = df1[mask].set_index('reg_time').resample('2Min').count()\n",
    "\n",
    "### Plot\n",
    "plt.plot(reg_per_day)\n",
    "plt.title('Single Ad World: Daily Registrations')\n",
    "plt.show()\n",
    "plt.plot(regs_around_ad_runtime)\n",
    "plt.title(ad_1.get_label())\n",
    "plt.xticks(rotation='vertical')\n",
    "plt.show()\n",
    "\n",
    "### Clean up\n",
    "df1.drop(columns=['dummy'], inplace=True)"
   ]
  },
  {
   "cell_type": "markdown",
   "metadata": {},
   "source": [
    "### Estimating $M$, the ad effect time, with $m$?"
   ]
  },
  {
   "cell_type": "markdown",
   "metadata": {},
   "source": [
    "As noted in the process outlined earlier on, now we can vary my choice of $m$, the estimator for the ad effective time $M$ to see if, despite the \"smoothing\" assumption inherent in the estimation of the ad effect time, the best $R^2$ score corresponds with the \"best\" estimate of $M$."
   ]
  },
  {
   "cell_type": "code",
   "execution_count": 8,
   "metadata": {},
   "outputs": [
    {
     "data": {
      "image/png": "[encoded data removed]",
      "text/plain": [
       "<Figure size 432x288 with 1 Axes>"
      ]
     },
     "metadata": {
      "needs_background": "light"
     },
     "output_type": "display_data"
    },
    {
     "data": {
      "text/html": [
       "<div>\n",
       "<style scoped>\n",
       "    .dataframe tbody tr th:only-of-type {\n",
       "        vertical-align: middle;\n",
       "    }\n",
       "\n",
       "    .dataframe tbody tr th {\n",
       "        vertical-align: top;\n",
       "    }\n",
       "\n",
       "    .dataframe thead th {\n",
       "        text-align: right;\n",
       "    }\n",
       "</style>\n",
       "<table border=\"1\" class=\"dataframe\">\n",
       "  <thead>\n",
       "    <tr style=\"text-align: right;\">\n",
       "      <th></th>\n",
       "      <th>m_guess</th>\n",
       "      <th>r-sq</th>\n",
       "      <th>base_rate</th>\n",
       "      <th>ad_1</th>\n",
       "    </tr>\n",
       "  </thead>\n",
       "  <tbody>\n",
       "    <tr>\n",
       "      <th>16</th>\n",
       "      <td>255</td>\n",
       "      <td>0.583765</td>\n",
       "      <td>485.150971</td>\n",
       "      <td>1166.849029</td>\n",
       "    </tr>\n",
       "    <tr>\n",
       "      <th>19</th>\n",
       "      <td>300</td>\n",
       "      <td>0.582802</td>\n",
       "      <td>570.768132</td>\n",
       "      <td>1157.231868</td>\n",
       "    </tr>\n",
       "    <tr>\n",
       "      <th>10</th>\n",
       "      <td>165</td>\n",
       "      <td>0.581353</td>\n",
       "      <td>313.924309</td>\n",
       "      <td>1157.075691</td>\n",
       "    </tr>\n",
       "    <tr>\n",
       "      <th>4</th>\n",
       "      <td>75</td>\n",
       "      <td>0.579425</td>\n",
       "      <td>142.693021</td>\n",
       "      <td>1150.306979</td>\n",
       "    </tr>\n",
       "    <tr>\n",
       "      <th>13</th>\n",
       "      <td>210</td>\n",
       "      <td>0.576138</td>\n",
       "      <td>399.542983</td>\n",
       "      <td>1151.457017</td>\n",
       "    </tr>\n",
       "  </tbody>\n",
       "</table>\n",
       "</div>"
      ],
      "text/plain": [
       "    m_guess      r-sq   base_rate         ad_1\n",
       "16      255  0.583765  485.150971  1166.849029\n",
       "19      300  0.582802  570.768132  1157.231868\n",
       "10      165  0.581353  313.924309  1157.075691\n",
       "4        75  0.579425  142.693021  1150.306979\n",
       "13      210  0.576138  399.542983  1151.457017"
      ]
     },
     "execution_count": 8,
     "metadata": {},
     "output_type": "execute_result"
    }
   ],
   "source": [
    "results_df, X, Y = plot_results(df1, ads_run)\n",
    "results_df.nlargest(5, 'r-sq')"
   ]
  },
  {
   "cell_type": "markdown",
   "metadata": {},
   "source": [
    "**Takeaway**: Initially, I thought that the configuration of the model (determined by the meta parameter) that yielded the highest $R^2$ would be the best estimate for $M$, but the variation due to the discrete choice of $m$ makes picking the \"right\" meta-parameter a little trickier, and frankly, not so really that critical.\n",
    "\n",
    "We expect some noise (especially when $m < M$) due to discrete choices of $m$. This is due to the naïve assumption we made regarding which interval's expected registrations include the parameter estimate of lift (e.g.,  the ad runs in interval $t$, but interval $t$ does not capture the bulk of actual registrations due to lift).\n",
    "\n",
    "This isn't too disappointing a result. This very, very simple model gets us into the ballpark of the \"true\" ad effect time $M$ pretty quickly (reading left to right). "
   ]
  },
  {
   "cell_type": "markdown",
   "metadata": {},
   "source": [
    "### Closing thoughts on Single Ad World\n",
    "\n",
    "The simuluation even in a simple case shows that we're not guaranteed that the choice of $m$ corresponding to the maximal $R^2$ is the closest approximation to the \"true\" ad effect, $M$. However, even if we choose a systematically oversized $m$ (say, by roughly choosing $m$ where gains to $R^2$ begins to level off per the plot above), we generally are comfortable with this \"smoothing\" because we can capture the bulk of the ad effect near the ad runtime. Importantly, the lift estimator $\\beta_1$ is pretty good for these varying window sizes above a threshold as well, which makes the selection of a \"correct\" $m$ trivial."
   ]
  },
  {
   "cell_type": "markdown",
   "metadata": {},
   "source": [
    "## Two Ad World, a toy-ish example\n",
    "\n",
    "Let's introduce a second ad of a different type to see the impact on our model. First, some housekeeping to keep the code somewhat generalizable for later cases."
   ]
  },
  {
   "cell_type": "markdown",
   "metadata": {},
   "source": [
    "### Two Ad World v1.0\n",
    "We start by constructing the first version of Two Ad World. For variety's sake, I assume that two ad types are run: the first is familiar (from Single Ad World) and the second is of a different variety (less effective) and run only once."
   ]
  },
  {
   "cell_type": "code",
   "execution_count": 9,
   "metadata": {},
   "outputs": [],
   "source": [
    "### Create new ad\n",
    "ad_2 = TVad('ad_2', lift_amount=LIFT//2, times_to_run=1)\n",
    "\n",
    "## Reduce to one list of registration times\n",
    "ads_run = [ad_1, ad_2]\n",
    "all_dts = [BASERATE_DTS] + [ad_x.get_reg_times() for ad_x in ads_run]\n",
    "\n",
    "### Put base registration and lift registration timestamps into dataframe\n",
    "df2 = pd.DataFrame(np.concatenate(all_dts), columns=['reg_time']).astype(\"datetime64\")"
   ]
  },
  {
   "cell_type": "markdown",
   "metadata": {},
   "source": [
    "We know _a priori_ what the total lift should be:"
   ]
  },
  {
   "cell_type": "code",
   "execution_count": 10,
   "metadata": {},
   "outputs": [
    {
     "data": {
      "text/plain": [
       "1711"
      ]
     },
     "execution_count": 10,
     "metadata": {},
     "output_type": "execute_result"
    }
   ],
   "source": [
    "total_expected_lift_all_ads = np.concatenate([ad_x.get_reg_times() for ad_x in ads_run]).size\n",
    "total_expected_lift_all_ads"
   ]
  },
  {
   "cell_type": "markdown",
   "metadata": {},
   "source": [
    "Specifically, the lift for each ad type:"
   ]
  },
  {
   "cell_type": "code",
   "execution_count": 11,
   "metadata": {},
   "outputs": [
    {
     "name": "stdout",
     "output_type": "stream",
     "text": [
      "ad_1: 1141.0 for each of the 1 runs\n",
      "ad_2: 570.0 for each of the 1 runs\n"
     ]
    }
   ],
   "source": [
    "for ad_x in ads_run:\n",
    "    print(f\"{ad_x.get_label()}: {ad_x.get_reg_times().size/len(ad_x.get_ad_runtimes())} for each of the {len(ad_x.get_ad_runtimes())} runs\")"
   ]
  },
  {
   "cell_type": "code",
   "execution_count": 12,
   "metadata": {},
   "outputs": [
    {
     "data": {
      "image/png": "[encoded data removed]",
      "text/plain": [
       "<Figure size 432x288 with 1 Axes>"
      ]
     },
     "metadata": {
      "needs_background": "light"
     },
     "output_type": "display_data"
    },
    {
     "data": {
      "text/html": [
       "<div>\n",
       "<style scoped>\n",
       "    .dataframe tbody tr th:only-of-type {\n",
       "        vertical-align: middle;\n",
       "    }\n",
       "\n",
       "    .dataframe tbody tr th {\n",
       "        vertical-align: top;\n",
       "    }\n",
       "\n",
       "    .dataframe thead th {\n",
       "        text-align: right;\n",
       "    }\n",
       "</style>\n",
       "<table border=\"1\" class=\"dataframe\">\n",
       "  <thead>\n",
       "    <tr style=\"text-align: right;\">\n",
       "      <th></th>\n",
       "      <th>m_guess</th>\n",
       "      <th>r-sq</th>\n",
       "      <th>base_rate</th>\n",
       "      <th>ad_1</th>\n",
       "      <th>ad_2</th>\n",
       "    </tr>\n",
       "  </thead>\n",
       "  <tbody>\n",
       "    <tr>\n",
       "      <th>19</th>\n",
       "      <td>300</td>\n",
       "      <td>0.641828</td>\n",
       "      <td>570.743429</td>\n",
       "      <td>1157.256571</td>\n",
       "      <td>613.256571</td>\n",
       "    </tr>\n",
       "    <tr>\n",
       "      <th>16</th>\n",
       "      <td>255</td>\n",
       "      <td>0.640230</td>\n",
       "      <td>485.134531</td>\n",
       "      <td>1166.865469</td>\n",
       "      <td>603.865469</td>\n",
       "    </tr>\n",
       "    <tr>\n",
       "      <th>10</th>\n",
       "      <td>165</td>\n",
       "      <td>0.639020</td>\n",
       "      <td>313.913289</td>\n",
       "      <td>1157.086711</td>\n",
       "      <td>605.086711</td>\n",
       "    </tr>\n",
       "    <tr>\n",
       "      <th>11</th>\n",
       "      <td>180</td>\n",
       "      <td>0.635797</td>\n",
       "      <td>342.449623</td>\n",
       "      <td>1147.550377</td>\n",
       "      <td>612.550377</td>\n",
       "    </tr>\n",
       "    <tr>\n",
       "      <th>12</th>\n",
       "      <td>195</td>\n",
       "      <td>0.634858</td>\n",
       "      <td>370.987746</td>\n",
       "      <td>1148.012254</td>\n",
       "      <td>616.012254</td>\n",
       "    </tr>\n",
       "  </tbody>\n",
       "</table>\n",
       "</div>"
      ],
      "text/plain": [
       "    m_guess      r-sq   base_rate         ad_1        ad_2\n",
       "19      300  0.641828  570.743429  1157.256571  613.256571\n",
       "16      255  0.640230  485.134531  1166.865469  603.865469\n",
       "10      165  0.639020  313.913289  1157.086711  605.086711\n",
       "11      180  0.635797  342.449623  1147.550377  612.550377\n",
       "12      195  0.634858  370.987746  1148.012254  616.012254"
      ]
     },
     "execution_count": 12,
     "metadata": {},
     "output_type": "execute_result"
    }
   ],
   "source": [
    "results_df, X, Y = plot_results(df2, ads_run)\n",
    "results_df.nlargest(5, 'r-sq')"
   ]
  },
  {
   "cell_type": "markdown",
   "metadata": {},
   "source": [
    "It is interesting to compare the differences in the models also when run under different interval assignment mechanisms. The default has been the aforementioned \"strict\" encoding (i.e., for interval $t$, $X^i_t = 1$ for given ad type $i$ _only if_ an ad of said type is run is in that interval).\n",
    "\n",
    "The results below show how the results differ when \"generous\" (i.e., any interval $t$ that has a registrant exposed to an ad (estimated by our choice of $m$) will yield $X_t = 1$ for said ad type) encoding is applied in a multiple ad setting. Depending on the data generated and when ads were run, you might see that the error minimization can heavily bias the model to solve for an overestimation of the base rate and the stronger-lift ad types.)"
   ]
  },
  {
   "cell_type": "code",
   "execution_count": 13,
   "metadata": {},
   "outputs": [
    {
     "data": {
      "image/png": "[encoded data removed]",
      "text/plain": [
       "<Figure size 432x288 with 1 Axes>"
      ]
     },
     "metadata": {
      "needs_background": "light"
     },
     "output_type": "display_data"
    },
    {
     "data": {
      "text/html": [
       "<div>\n",
       "<style scoped>\n",
       "    .dataframe tbody tr th:only-of-type {\n",
       "        vertical-align: middle;\n",
       "    }\n",
       "\n",
       "    .dataframe tbody tr th {\n",
       "        vertical-align: top;\n",
       "    }\n",
       "\n",
       "    .dataframe thead th {\n",
       "        text-align: right;\n",
       "    }\n",
       "</style>\n",
       "<table border=\"1\" class=\"dataframe\">\n",
       "  <thead>\n",
       "    <tr style=\"text-align: right;\">\n",
       "      <th></th>\n",
       "      <th>m_guess</th>\n",
       "      <th>r-sq</th>\n",
       "      <th>base_rate</th>\n",
       "      <th>ad_1</th>\n",
       "      <th>ad_2</th>\n",
       "    </tr>\n",
       "  </thead>\n",
       "  <tbody>\n",
       "    <tr>\n",
       "      <th>16</th>\n",
       "      <td>255</td>\n",
       "      <td>0.640230</td>\n",
       "      <td>485.134531</td>\n",
       "      <td>1166.865469</td>\n",
       "      <td>603.865469</td>\n",
       "    </tr>\n",
       "    <tr>\n",
       "      <th>12</th>\n",
       "      <td>195</td>\n",
       "      <td>0.634858</td>\n",
       "      <td>370.987746</td>\n",
       "      <td>1148.012254</td>\n",
       "      <td>616.012254</td>\n",
       "    </tr>\n",
       "    <tr>\n",
       "      <th>18</th>\n",
       "      <td>285</td>\n",
       "      <td>0.631144</td>\n",
       "      <td>542.210641</td>\n",
       "      <td>1148.789359</td>\n",
       "      <td>617.789359</td>\n",
       "    </tr>\n",
       "    <tr>\n",
       "      <th>15</th>\n",
       "      <td>240</td>\n",
       "      <td>0.630906</td>\n",
       "      <td>456.599634</td>\n",
       "      <td>1146.400366</td>\n",
       "      <td>613.400366</td>\n",
       "    </tr>\n",
       "    <tr>\n",
       "      <th>13</th>\n",
       "      <td>210</td>\n",
       "      <td>0.629889</td>\n",
       "      <td>399.539600</td>\n",
       "      <td>1151.460400</td>\n",
       "      <td>578.460400</td>\n",
       "    </tr>\n",
       "  </tbody>\n",
       "</table>\n",
       "</div>"
      ],
      "text/plain": [
       "    m_guess      r-sq   base_rate         ad_1        ad_2\n",
       "16      255  0.640230  485.134531  1166.865469  603.865469\n",
       "12      195  0.634858  370.987746  1148.012254  616.012254\n",
       "18      285  0.631144  542.210641  1148.789359  617.789359\n",
       "15      240  0.630906  456.599634  1146.400366  613.400366\n",
       "13      210  0.629889  399.539600  1151.460400  578.460400"
      ]
     },
     "execution_count": 13,
     "metadata": {},
     "output_type": "execute_result"
    }
   ],
   "source": [
    "### Run using \"generous\" assignment; default for GENEROUS_AD_TYPE_ENCODING is False\n",
    "results_df, X, Y = plot_results(df2, ads_run, True)\n",
    "results_df.nlargest(5, 'r-sq')"
   ]
  },
  {
   "cell_type": "markdown",
   "metadata": {},
   "source": [
    "### Two Ad World, v2.0\n",
    "\n",
    "Let's see if the model can begin to distinguish between ad effect sizes over multiple runs. \n",
    "\n",
    "We keep our two ad types (`ad_1`, `ad_2`), but now we run the second ad type multiple times throughout the year."
   ]
  },
  {
   "cell_type": "code",
   "execution_count": 14,
   "metadata": {},
   "outputs": [],
   "source": [
    "### Create new ad\n",
    "ad_2 = TVad('ad_2', lift_amount=LIFT//2, times_to_run=4)\n",
    "\n",
    "## Reduce to one list of registration times\n",
    "ads_run = [ad_1, ad_2]\n",
    "all_dts = [BASERATE_DTS] + [ad_x.get_reg_times() for ad_x in ads_run]\n",
    "\n",
    "### Put base registration and lift registration timestamps into dataframe\n",
    "df3 = pd.DataFrame(np.concatenate(all_dts), columns=['reg_time']).astype(\"datetime64\")"
   ]
  },
  {
   "cell_type": "markdown",
   "metadata": {},
   "source": [
    "We see here that we expect more lift (from the fact we're running the ad more times)."
   ]
  },
  {
   "cell_type": "code",
   "execution_count": 15,
   "metadata": {},
   "outputs": [
    {
     "data": {
      "text/plain": [
       "3421"
      ]
     },
     "execution_count": 15,
     "metadata": {},
     "output_type": "execute_result"
    }
   ],
   "source": [
    "total_expected_lift_all_ads = np.concatenate([ad_x.get_reg_times() for ad_x in ads_run]).size\n",
    "total_expected_lift_all_ads"
   ]
  },
  {
   "cell_type": "markdown",
   "metadata": {},
   "source": [
    "Specifically, the lift for each ad type:"
   ]
  },
  {
   "cell_type": "code",
   "execution_count": 16,
   "metadata": {},
   "outputs": [
    {
     "name": "stdout",
     "output_type": "stream",
     "text": [
      "ad_1: 1141.0 for each of the 1 runs\n",
      "ad_2: 570.0 for each of the 4 runs\n"
     ]
    }
   ],
   "source": [
    "for ad_x in ads_run:\n",
    "    print(f\"{ad_x.get_label()}: {ad_x.get_reg_times().size/len(ad_x.get_ad_runtimes())} for each of the {len(ad_x.get_ad_runtimes())} runs\")"
   ]
  },
  {
   "cell_type": "code",
   "execution_count": 17,
   "metadata": {},
   "outputs": [
    {
     "data": {
      "image/png": "[encoded data removed]",
      "text/plain": [
       "<Figure size 432x288 with 1 Axes>"
      ]
     },
     "metadata": {
      "needs_background": "light"
     },
     "output_type": "display_data"
    },
    {
     "data": {
      "text/html": [
       "<div>\n",
       "<style scoped>\n",
       "    .dataframe tbody tr th:only-of-type {\n",
       "        vertical-align: middle;\n",
       "    }\n",
       "\n",
       "    .dataframe tbody tr th {\n",
       "        vertical-align: top;\n",
       "    }\n",
       "\n",
       "    .dataframe thead th {\n",
       "        text-align: right;\n",
       "    }\n",
       "</style>\n",
       "<table border=\"1\" class=\"dataframe\">\n",
       "  <thead>\n",
       "    <tr style=\"text-align: right;\">\n",
       "      <th></th>\n",
       "      <th>m_guess</th>\n",
       "      <th>r-sq</th>\n",
       "      <th>base_rate</th>\n",
       "      <th>ad_1</th>\n",
       "      <th>ad_2</th>\n",
       "    </tr>\n",
       "  </thead>\n",
       "  <tbody>\n",
       "    <tr>\n",
       "      <th>16</th>\n",
       "      <td>255</td>\n",
       "      <td>0.562819</td>\n",
       "      <td>485.699708</td>\n",
       "      <td>1166.300292</td>\n",
       "      <td>574.800292</td>\n",
       "    </tr>\n",
       "    <tr>\n",
       "      <th>8</th>\n",
       "      <td>135</td>\n",
       "      <td>0.554288</td>\n",
       "      <td>257.146530</td>\n",
       "      <td>1154.853470</td>\n",
       "      <td>558.353470</td>\n",
       "    </tr>\n",
       "    <tr>\n",
       "      <th>3</th>\n",
       "      <td>60</td>\n",
       "      <td>0.546660</td>\n",
       "      <td>114.285943</td>\n",
       "      <td>1141.714057</td>\n",
       "      <td>568.214057</td>\n",
       "    </tr>\n",
       "    <tr>\n",
       "      <th>17</th>\n",
       "      <td>270</td>\n",
       "      <td>0.546210</td>\n",
       "      <td>514.289243</td>\n",
       "      <td>1152.710757</td>\n",
       "      <td>564.210757</td>\n",
       "    </tr>\n",
       "    <tr>\n",
       "      <th>7</th>\n",
       "      <td>120</td>\n",
       "      <td>0.545463</td>\n",
       "      <td>228.574594</td>\n",
       "      <td>1143.425406</td>\n",
       "      <td>561.425406</td>\n",
       "    </tr>\n",
       "  </tbody>\n",
       "</table>\n",
       "</div>"
      ],
      "text/plain": [
       "    m_guess      r-sq   base_rate         ad_1        ad_2\n",
       "16      255  0.562819  485.699708  1166.300292  574.800292\n",
       "8       135  0.554288  257.146530  1154.853470  558.353470\n",
       "3        60  0.546660  114.285943  1141.714057  568.214057\n",
       "17      270  0.546210  514.289243  1152.710757  564.210757\n",
       "7       120  0.545463  228.574594  1143.425406  561.425406"
      ]
     },
     "execution_count": 17,
     "metadata": {},
     "output_type": "execute_result"
    }
   ],
   "source": [
    "results_df, X, Y = plot_results(df3, ads_run)\n",
    "results_df.nlargest(5, 'r-sq')"
   ]
  },
  {
   "cell_type": "markdown",
   "metadata": {},
   "source": [
    "Despite systematically overestimating the base rates ($\\beta_0$) for larger choices of $m$, the regression does a good job picking up approximations for the true lift attributable to each ad type."
   ]
  }
 ],
 "metadata": {
  "kernelspec": {
   "display_name": "Python 3",
   "language": "python",
   "name": "python3"
  },
  "language_info": {
   "codemirror_mode": {
    "name": "ipython",
    "version": 3
   },
   "file_extension": ".py",
   "mimetype": "text/x-python",
   "name": "python",
   "nbconvert_exporter": "python",
   "pygments_lexer": "ipython3",
   "version": "3.6.7"
  },
  "toc": {
   "nav_menu": {},
   "number_sections": true,
   "sideBar": true,
   "skip_h1_title": true,
   "toc_cell": false,
   "toc_position": {},
   "toc_section_display": "block",
   "toc_window_display": false
  }
 },
 "nbformat": 4,
 "nbformat_minor": 2
}

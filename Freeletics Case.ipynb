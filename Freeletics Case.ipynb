{
 "cells": [
  {
   "cell_type": "markdown",
   "metadata": {},
   "source": [
    "# Freeletics: Senior Data Analyst Case\n",
    "Ravi Dayabhai"
   ]
  },
  {
   "cell_type": "code",
   "execution_count": 1,
   "metadata": {},
   "outputs": [],
   "source": [
    "### Import dependencies\n",
    "from random import random\n",
    "import numpy as np\n",
    "import pandas as pd\n",
    "import datetime\n",
    "import matplotlib.pyplot as plt\n",
    "from matplotlib.dates import DateFormatter\n",
    "from sklearn.linear_model import LinearRegression\n",
    "from pandas.plotting import register_matplotlib_converters\n",
    "from operator import itemgetter\n",
    "\n",
    "register_matplotlib_converters()"
   ]
  },
  {
   "cell_type": "markdown",
   "metadata": {},
   "source": [
    "## Problem: TV Ad Attribution"
   ]
  },
  {
   "cell_type": "markdown",
   "metadata": {},
   "source": [
    "The [simplified] problem we're faced with is trying to divine which \"organic\" registrations are _truely_ organic registrations versus those that are attributable to TV ads (of a particular variety in a particular market).\n",
    "\n",
    "A \"baseline + lift\" model assumes that there is some natural rate of registrations (i.e., base rate) per interval of time and that the residual registrations in an interval are due to exposure to a TV ad. But the choice of interval duration ($m$) is not immediately obvious. In a world where we could run an experiment to estimate lift or where the signal was very evident, simple heuristics might work (e.g., observing the data, inferring the lift, and applying a decision rule based on our inference).\n",
    "\n",
    "This notebook is a walk-through of my thinking and an attempt to use generated data (governed by known and established parameters) to illustrate the general process to distinguish lift from baseline registrations."
   ]
  },
  {
   "cell_type": "markdown",
   "metadata": {},
   "source": [
    "### Simplifying Assumptions\n",
    "\n",
    "Before we proceed any further, it's worth noting that a number of simplifying assumptions are being made in the subsequent analysis, some of which are listed below:\n",
    "\n",
    "- ignoring multichannel effects (e.g., watching TV doesn't result registering through another channel); only looking at direct effect in some time period after ad is run\n",
    "- \"last touch\" attribution assumes away any 'halo effect' from running multiple ads \n",
    "- organic registration is strictly a dichotomy of TV vs. non-TV (i.e., there aren't other channels driving organic registrations)\n",
    "- market/geo independence (e.g., TV ad in Germany doesn't cause registration in US)\n",
    "- the distribution of the ad effect, roughly, decays as time passes with the most number of registrations clustering near the ad runtime\n",
    "- we treat the ad effect _time_ is the same for ads of different type (read: the lift may be substantially different for one type of ad versus another)\n",
    "\n",
    "Without structural knowledge of the underlying data or the ability to do any exploratory data analysis, which would likely consume at least half (if not more!) of the analysis process, this notion of a \"baseline + lift\" inspired an exploration of multiple regression on the time series of regressions.\n",
    "\n",
    "**Important Note**: The simulated data set below picks up the algorithm after data pre-processing, namely:\n",
    "\n",
    "- Partitioning the data by geography/market from registrations table (i.e., simulated data is for _one_ market)\n",
    "- Filtering out `is_organic = False` registrations from registrations table\n",
    "- Converting all date & time information to common timezone datetimes (e.g., UTC) in the ads table\n",
    "\n",
    "\n",
    "### General Approach\n",
    "\n",
    "Given that we're trying to tease apart some natural base rate registrations in a given year versus the lift due to running a television advertisement, I want to see if a very simple model in a very simple scenario is able to do this -- I explore this in the subsequent section, but wanted to lay out my general approach here first:\n",
    "\n",
    "- For a given market, define $\\hat{y}_{t}$ as expected total registrations in time interval $t$ where the interval is length $m$ minutes (read: this is the “meta” parameter). Therefore, if I [arbitrarily] choose $m$ to be 1 day, then there will be 365 $t$s (because I broke up the entire year by day). $x$ is a binary variable (on each ad) that is $1$ when the ad is run in that interval$^1$ _t_ and $0$ otherwise.\n",
    "\n",
    "- For every choice of reasonable $m$ (EDA can give us a sense of what’s reasonable), the model is given by: \n",
    "\n",
    "$$\\hat{y}_t = \\beta_0 + \\beta_1 x_t, \\quad x_t = \\begin{cases} 1\\;\\text{if }t\\text{ contains ad exposure}\\\\ 0\\; \\text{if not}\\end{cases}$$ \n",
    "\n",
    "...where $\\beta_0$ is the base rate (assumed the same for all $t$ in the given year, 2018) and $\\beta_1$ is the lift. The units for both are the number of registrations in the interval defined by $m$.\n",
    "\n",
    "- Linear regression via OLS for any particular choice of $m$ results in the best fit estimate for $\\beta_0$ and $\\beta_1$. Record the $R^2$ for given $m$ and repeat for different choices of $m$. The meta parameter $m$ that result in the best $R^2$ yields is a good estimator for the ad’s shelf life; call that $m^*$.\n",
    "\n",
    "\n",
    "- Count all registrations above $\\beta_0$ (the base rate of registration per interval $t$) $m^*$ minutes after the ad ran as lift.\n",
    "\n",
    "\n",
    "- Proceed with calculating the cost-per-registration (CPR) from TV by dividing total cost of an ad by its associated lift parameter.\n",
    "\n",
    "\n",
    "**Generalization**: To generalize, we can add more terms to the model corresponding to each ad variant in a particular market:\n",
    "\n",
    "$$\n",
    "\\hat{Y} = \\beta X\n",
    "$$\n",
    "\n",
    "A **multiple regression model** is useful for this because we can directly interpret the coefficients as the quantity we are seeking to estimate. \n",
    "\n",
    "### Caveats & Considerations\n",
    "\n",
    "#### \"Strict\" vs.\" Generous\" Assignment$^1$, annoying discontinuities\n",
    "\n",
    "The outlined approach briefly touches on the definition of \"ad exposure.\" I explored two ways to do this determination: \"strict\" and \"generous\" assignments. \"Assignment\" describes whether the binary encodings in $X_t$ for each interval $t$ get labelled as `1` or a `0`.\n",
    "\n",
    "The **\"strict\" or non-\"generous\" assignment** is pretty straightforward: \n",
    "\n",
    "1. Once we've chosen $m$, we partition the registration data into $t$ intervals. The observed outcome $Y$ is the number of registrations in each bin.\n",
    "2. $X^i_t = 1$ (read: \"for ad type $i$, $X$ in interval $t$ equals 1\") **only if** an ad of type $i$ runs in that interval, $t$. \n",
    "\n",
    "Depending on the $m$ chosen, the time intervals that enclose ad run times may or may not truly capture the extent of registrations due to the ad. In fact, it's likely to _under_-attribute registrations to lift (said another way, the _ex ante_ or _ex post_ intervals will tend to _over_-attribute registrations to the base rate. This phenomena is illustrated below:\n",
    "\n",
    "[INSERT PICTURE](PICTURE URL)\n",
    "\n",
    "The **\"generous\" assignment** takes a more registrant-focused stance. \n",
    "\n",
    "1. For each choice of $m$, we label each registrant as being exposed to a given ad if the registration happened within $m$ units of time since the ad ran. A given registrant is assigned only one ad according to \"last touch,\" or the most recent ad to which a given registrant is most likely to have been exposed.\n",
    "2. $X^i_t = 1$ **if** a registrant of that ad type ($i$) registered in that interval, $t$. \n",
    "\n",
    "[INSERT PICTURE](PICTURE URL)"
   ]
  },
  {
   "cell_type": "markdown",
   "metadata": {},
   "source": [
    "## Creating Ad Worlds\n",
    "\n",
    "I begin by laying the groundwork for modeling worlds where _organic_ registrations in a given market are due to only a base rate and lift from ads (possibly of varying types and frequencies).\n",
    "\n",
    "The following variables are the parameters for this universe (modifications here changes all worlds):"
   ]
  },
  {
   "cell_type": "code",
   "execution_count": 2,
   "metadata": {},
   "outputs": [],
   "source": [
    "### Parameters & variables\n",
    "M = 60\n",
    "BEG_YEAR_STR = '01.01.2018 00:00:00,00'\n",
    "END_YEAR_STR = '31.12.2018 23:59:59,999999'\n",
    "TIME_STR_FORMAT = '%d.%m.%Y %H:%M:%S,%f'\n",
    "TOTAL_BASE_REG = int(1e6)\n",
    "\n",
    "# Lift multiplier on base rates: e.g., ads drive LIFT_BR_MULT times registrations vs. base)\n",
    "LIFT_BR_MULT = 10\n",
    "\n",
    "## Datetime conversions\n",
    "beg_year = datetime.datetime.strptime(BEG_YEAR_STR, TIME_STR_FORMAT)\n",
    "end_year = datetime.datetime.strptime(END_YEAR_STR, TIME_STR_FORMAT)\n",
    "M_dt = datetime.timedelta(minutes=M)\n",
    "\n",
    "## The implied base rate (per interval size M)\n",
    "IMPLIED_BASERATE = TOTAL_BASE_REG*60*M / (end_year-beg_year).total_seconds()\n",
    "LIFT = int(LIFT_BR_MULT*IMPLIED_BASERATE)\n",
    "\n",
    "### Global base rate registrations for each M-minute interval\n",
    "BASERATE_DTS = (np.random.random(TOTAL_BASE_REG) * (end_year - beg_year)) + beg_year\n",
    "\n",
    "### Our choices of m; used in assessing results and plotting\n",
    "min_m_guess = 10\n",
    "max_m_guess = 120\n",
    "intv = 5\n",
    "\n",
    "### How we assign 1 or 0 to x_t: strict or generous\n",
    "GENEROUS_AD_TYPE_ENCODING = False"
   ]
  },
  {
   "cell_type": "markdown",
   "metadata": {},
   "source": [
    "Below, I've created a handful of useful objects to help model various scenarios:"
   ]
  },
  {
   "cell_type": "code",
   "execution_count": 3,
   "metadata": {},
   "outputs": [],
   "source": [
    "### Define an ad class so we can use it to simulate multiple ads\n",
    "class TVad():\n",
    "    \n",
    "    def __init__(self, label, lift_amount=LIFT, M=M, times_to_run=1):\n",
    "        self.label = label\n",
    "        self.lift_amount = lift_amount\n",
    "        self.M = M\n",
    "        self.M_dt = datetime.timedelta(minutes=M)\n",
    "        \n",
    "        # Select times ad will run\n",
    "        self.ad_runtimes = list((np.random.random(times_to_run) * (end_year - beg_year)) + beg_year)\n",
    "              \n",
    "        # Generate the timestamps for registrations due to ad\n",
    "        self.regs_due_to_ad = np.array([])\n",
    "        for ad_runtime in self.ad_runtimes:\n",
    "            lift_dts = (np.random.gamma(2, .08, lift_amount) * (M_dt)) + ad_runtime\n",
    "            self.regs_due_to_ad = np.append(self.regs_due_to_ad, lift_dts)\n",
    "        \n",
    "    ## Getters\n",
    "    def get_ad_effect_periods(self, m_guess):\n",
    "        ends = [beg + datetime.timedelta(minutes=M) for beg in self.ad_runtimes]\n",
    "        return list(zip(self.ad_runtimes, ends))\n",
    "    \n",
    "    def get_ad_runtimes(self):\n",
    "        return self.ad_runtimes\n",
    "        \n",
    "    def get_label(self):\n",
    "        return self.label\n",
    "    \n",
    "    def get_reg_times(self):\n",
    "        return self.regs_due_to_ad\n",
    "\n",
    "\n",
    "## HELPER FUNCTION: Sort ads by runtime\n",
    "def ad_run_sorter(ads_ran, m_guess_int):\n",
    "    '''\n",
    "    Returns each ad instance in form: [((dt_beg, dt_end), label), ... ]\n",
    "    '''\n",
    "    all_ad_runs = []\n",
    "    for ad in ads_ran:\n",
    "        ad_runs = list(zip(ad.get_ad_effect_periods(m_guess_int), [ad.get_label() for _ in ads_ran]))\n",
    "        all_ad_runs += ad_runs\n",
    "    return sorted(all_ad_runs, key=lambda x: x[0][0])\n",
    "\n",
    "\n",
    "### Takes registration dataframe as input and outputs one-hot encoded dataframe based on ad exposure\n",
    "def reg_df_encoder(df, m_guess_int, ads_ran, generous_ad_type_encoding=False):\n",
    "    \n",
    "    ## Order the ads chronologically\n",
    "    ordered_ad_runtimes = ad_run_sorter(ads_ran, m_guess_int)\n",
    "    \n",
    "    ## Workaround to ensure that the first & last bin is always represented even if no registration present\n",
    "    # Create fake datum\n",
    "    dummy_datum = dict(zip(df.columns, [0 for cols in df.columns]))\n",
    "    dummy_datum['reg_time'] = beg_year\n",
    "    dummy_datum2 = {**dummy_datum}\n",
    "    dummy_datum2['reg_time'] = end_year\n",
    "    \n",
    "    ## Add fake datum\n",
    "    df = df.append(pd.DataFrame([dummy_datum, dummy_datum2]), sort=False, ignore_index=True).sort_values('reg_time').reset_index(drop=True)\n",
    "    \n",
    "    \n",
    "    ## If the encoding is generous do one hot encoding and cut by intervals...\n",
    "    if generous_ad_type_encoding:\n",
    "        '''\n",
    "        Encoded interval in cleaned df will yield 1 (positive exposure) for an ad\n",
    "        whenever interval contains ANY exposed registrations to said ad. \n",
    "        '''\n",
    "        ## HELPER FUNCTION: Assigns registration to ad instance\n",
    "        def ad_type_encoder_generous(x, chron_ads):\n",
    "            ## Find the appropriate ad\n",
    "            try:\n",
    "                # Get the closest ad\n",
    "                relevant_ad = max([ad_i for ad_i in chron_ads if x > ad_i[0][0]], key = itemgetter(0,0))\n",
    "                # Return that ad string if within the estimated ad effect time, m\n",
    "                if (x > relevant_ad[0][0]) and (x <= relevant_ad[0][1]):\n",
    "                    return relevant_ad[1]\n",
    "                else:\n",
    "                    return np.nan\n",
    "            except ValueError:\n",
    "                return np.nan  \n",
    "    \n",
    "        ## Label the dataframe accordingly\n",
    "        df['ad_exposure'] = df['reg_time'].apply(ad_type_encoder_generous, args=(ordered_ad_runtimes,))\n",
    "\n",
    "        ## Put the data frame back together after one-hot encoding, drop ad_exposure column\n",
    "        df_dummies = pd.get_dummies(df['ad_exposure'])\n",
    "\n",
    "\n",
    "        df_clean = pd.concat([df.drop(columns=['ad_exposure']), df_dummies], axis=1).sort_values('reg_time').reset_index().drop(columns=['index'])\n",
    "        df_clean['Y'] = 1\n",
    "        \n",
    "        \n",
    "        df_clean['t'] = pd.cut(df['reg_time'], pd.date_range(start=beg_year, end=end_year + datetime.timedelta(milliseconds=1), freq=str(m_guess_int)+'Min'), right=False)\n",
    "        df_clean = df_clean.groupby('t').sum()\n",
    "\n",
    "        return df_clean\n",
    "    \n",
    "    ### ...otherwise encode after cut and assign encoding for each ad if ad run in interval.\n",
    "    else:\n",
    "        '''\n",
    "        Encoded interval in cleaned df will yield 1 (positive exposure) for an ad \n",
    "        ONLY if said ad runtime was in that interval.\n",
    "        '''\n",
    "        # Do cut and grouping on intervals first\n",
    "        df['t'] = pd.cut(df['reg_time'], pd.date_range(start=beg_year, end=end_year + datetime.timedelta(milliseconds=1), freq=str(m_guess_int)+'Min'), right=False)\n",
    "        df['Y'] = 1\n",
    "        df = df.groupby('t').sum()\n",
    "         \n",
    "        # Build lookup table for apply function on interval column\n",
    "        keys = [ad.get_label () for ad in ads_run]\n",
    "        values = []\n",
    "        for k in keys:\n",
    "            v = [ad[0][0] for ad in ordered_ad_runtimes if k == ad[1]]\n",
    "            values.append(v)\n",
    "\n",
    "        ad_run_lookup = dict(zip(keys, values))\n",
    "\n",
    "        # Apply lookup function for each ad type\n",
    "        def ad_type_encoder_strict(x, ad_runtimes):\n",
    "            for ad_runtime in ad_runtimes:\n",
    "                if ad_runtime in x:\n",
    "                    return 1\n",
    "            return 0\n",
    "                \n",
    "        df = df.reset_index()\n",
    "        for ad_type, ad_runtimes in ad_run_lookup.items():\n",
    "            df[ad_type] = df['t'].apply(ad_type_encoder_strict, args=(ad_runtimes,))   \n",
    "        \n",
    "        return df.set_index('t')\n",
    "        \n",
    "        \n",
    "### Model fitting and evaluation function\n",
    "def multi_ad_model_fitter(df, m_guess_int, ads_ran, generous_ad_type_encoding=False):\n",
    "    m_guess = datetime.timedelta(minutes = m_guess_int)\n",
    "    df = reg_df_encoder(df, m_guess_int, ads_ran, generous_ad_type_encoding)\n",
    "    \n",
    "    ## Normalize ad columns and split effect and response data for model fitting\n",
    "    X = df[[col for col in df.columns if col != 'Y']].apply(lambda s: 1*(s>0))\n",
    "    Y = df['Y']\n",
    "\n",
    "    ### Fit & return linear regression model\n",
    "    model = LinearRegression()\n",
    "    model.fit(X, Y)\n",
    "    return model, model.score(X.to_numpy(), Y.to_numpy()), X, Y\n",
    "\n",
    "\n",
    "### Function to yield plots, results dataframe, and actual input & output dataframes\n",
    "def plot_results(df, ads_ran):\n",
    "    '''\n",
    "    Returns results dataframe and plots different choices of m against r-squared for OLS models.\n",
    "    '''\n",
    "    results = []\n",
    "    for m_guess in range(min_m_guess, max_m_guess+1, intv):\n",
    "        model, score, X, Y = multi_ad_model_fitter(df, m_guess, ads_ran, GENEROUS_AD_TYPE_ENCODING)\n",
    "        results.append([m_guess, score, model.intercept_, dict(zip(X.columns, model.coef_))])\n",
    "\n",
    "    ## Put results into dataframe\n",
    "    results_df_coefs = pd.DataFrame([trial.pop() for trial in results])\n",
    "    results_df_others = pd.DataFrame(results, columns=['m_guess', 'r-sq', 'base_rate'])                   \n",
    "    results_df = results_df_others.join(results_df_coefs)\n",
    "\n",
    "    ## Plot\n",
    "    plt.plot(results_df['m_guess'], results_df['r-sq'])\n",
    "\n",
    "    # Red dashed line for actual ad effect time, M\n",
    "    plt.axvline(x=M, color='r', linestyle='--')\n",
    "    plt.show()\n",
    "\n",
    "    return results_df, X, Y"
   ]
  },
  {
   "cell_type": "markdown",
   "metadata": {},
   "source": [
    "## Single Ad World, a toy example\n",
    "The code below attempts to simulate a world where only one advertisement is run throughout the year. We know the ad effective time and the associated lift to be expected from the ad. We begin by seeing if a **simple linear model** for chosen approximations of the ad effective time (when selected on the basis of $R^2$ values) does a good job of determining the true ad effective time."
   ]
  },
  {
   "cell_type": "markdown",
   "metadata": {},
   "source": [
    "### Simulating registrations\n",
    "\n",
    "I build the _organic_ registration table for this _single_ market. Here (and in other worlds explored below) I'm assuming that the shape of the distribution governing the lift isn't uniform, but that the base rate of registrations throughout the year is."
   ]
  },
  {
   "cell_type": "code",
   "execution_count": 4,
   "metadata": {},
   "outputs": [],
   "source": [
    "### Create original ad\n",
    "## New ad only airs multiple times\n",
    "ad_1 = TVad('ad_1')\n",
    "\n",
    "## Reduce to one list of registration times\n",
    "ads_run = [ad_1]\n",
    "all_dts = [BASERATE_DTS] + [ad_x.get_reg_times() for ad_x in ads_run]\n",
    "\n",
    "### Put base registration and lift registration timestamps into dataframe\n",
    "df1 = pd.DataFrame(np.concatenate(all_dts), columns=['reg_time']).astype(\"datetime64\")"
   ]
  },
  {
   "cell_type": "markdown",
   "metadata": {},
   "source": [
    "The uniform distribution over the year from which registrations were drawn results in the following base rate (per period size $M$):"
   ]
  },
  {
   "cell_type": "code",
   "execution_count": 5,
   "metadata": {},
   "outputs": [
    {
     "data": {
      "text/plain": [
       "114"
      ]
     },
     "execution_count": 5,
     "metadata": {},
     "output_type": "execute_result"
    }
   ],
   "source": [
    "int(IMPLIED_BASERATE)"
   ]
  },
  {
   "cell_type": "markdown",
   "metadata": {},
   "source": [
    "The lift we should expect is:"
   ]
  },
  {
   "cell_type": "code",
   "execution_count": 6,
   "metadata": {},
   "outputs": [
    {
     "data": {
      "text/plain": [
       "1141"
      ]
     },
     "execution_count": 6,
     "metadata": {},
     "output_type": "execute_result"
    }
   ],
   "source": [
    "LIFT"
   ]
  },
  {
   "cell_type": "markdown",
   "metadata": {},
   "source": [
    "Let's take a look at our simulated data in \"Single Ad World.\""
   ]
  },
  {
   "cell_type": "code",
   "execution_count": 7,
   "metadata": {},
   "outputs": [
    {
     "data": {
      "image/png": "[encoded data removed]",
      "text/plain": [
       "<Figure size 432x288 with 1 Axes>"
      ]
     },
     "metadata": {
      "needs_background": "light"
     },
     "output_type": "display_data"
    },
    {
     "data": {
      "image/png": "[encoded data removed]",
      "text/plain": [
       "<Figure size 432x288 with 1 Axes>"
      ]
     },
     "metadata": {
      "needs_background": "light"
     },
     "output_type": "display_data"
    }
   ],
   "source": [
    "### Resampling \n",
    "\n",
    "## ...by day to make the plot easier to read\n",
    "df1['dummy'] = 1\n",
    "reg_per_day = df1.set_index('reg_time').resample('D').count()\n",
    "\n",
    "### ...for intervals around ad runtime, every two mins.\n",
    "ad_runtime = ad_1.get_ad_runtimes()[0]\n",
    "mask = (df1['reg_time'] > ad_runtime - 3*M_dt) & (df1['reg_time'] < ad_runtime + 3*M_dt)\n",
    "regs_around_ad_runtime = df1[mask].set_index('reg_time').resample('2Min').count()\n",
    "\n",
    "### Plot\n",
    "plt.plot(reg_per_day)\n",
    "plt.title('Single Ad World: Daily Registrations')\n",
    "plt.show()\n",
    "plt.plot(regs_around_ad_runtime)\n",
    "plt.title(ad_1.get_label())\n",
    "plt.xticks(rotation='vertical')\n",
    "plt.show()\n",
    "\n",
    "### Clean up\n",
    "df1.drop(columns=['dummy'], inplace=True)"
   ]
  },
  {
   "cell_type": "markdown",
   "metadata": {},
   "source": [
    "### Estimating $M$, the ad effect time, with $m$"
   ]
  },
  {
   "cell_type": "markdown",
   "metadata": {},
   "source": [
    "As noted in the process outlined earlier on, now we can vary my choice of $m$, the estimator for the ad effective time $M$ to see if, despite the \"smoothing\" assumption inherent in the estimation of the ad effect time, the best $R^2$ score corresponds with the \"best\" estimate of $M$."
   ]
  },
  {
   "cell_type": "code",
   "execution_count": 8,
   "metadata": {},
   "outputs": [
    {
     "data": {
      "image/png": "[encoded data removed]",
      "text/plain": [
       "<Figure size 432x288 with 1 Axes>"
      ]
     },
     "metadata": {
      "needs_background": "light"
     },
     "output_type": "display_data"
    },
    {
     "data": {
      "text/html": [
       "<div>\n",
       "<style scoped>\n",
       "    .dataframe tbody tr th:only-of-type {\n",
       "        vertical-align: middle;\n",
       "    }\n",
       "\n",
       "    .dataframe tbody tr th {\n",
       "        vertical-align: top;\n",
       "    }\n",
       "\n",
       "    .dataframe thead th {\n",
       "        text-align: right;\n",
       "    }\n",
       "</style>\n",
       "<table border=\"1\" class=\"dataframe\">\n",
       "  <thead>\n",
       "    <tr style=\"text-align: right;\">\n",
       "      <th></th>\n",
       "      <th>m_guess</th>\n",
       "      <th>r-sq</th>\n",
       "      <th>base_rate</th>\n",
       "      <th>ad_1</th>\n",
       "    </tr>\n",
       "  </thead>\n",
       "  <tbody>\n",
       "    <tr>\n",
       "      <th>22</th>\n",
       "      <td>120</td>\n",
       "      <td>0.586075</td>\n",
       "      <td>228.303722</td>\n",
       "      <td>1172.696278</td>\n",
       "    </tr>\n",
       "    <tr>\n",
       "      <th>19</th>\n",
       "      <td>105</td>\n",
       "      <td>0.581465</td>\n",
       "      <td>199.765987</td>\n",
       "      <td>1167.234013</td>\n",
       "    </tr>\n",
       "    <tr>\n",
       "      <th>20</th>\n",
       "      <td>110</td>\n",
       "      <td>0.574490</td>\n",
       "      <td>209.280092</td>\n",
       "      <td>1166.719908</td>\n",
       "    </tr>\n",
       "    <tr>\n",
       "      <th>17</th>\n",
       "      <td>95</td>\n",
       "      <td>0.569032</td>\n",
       "      <td>180.743446</td>\n",
       "      <td>1147.256554</td>\n",
       "    </tr>\n",
       "    <tr>\n",
       "      <th>10</th>\n",
       "      <td>60</td>\n",
       "      <td>0.564732</td>\n",
       "      <td>114.156981</td>\n",
       "      <td>1127.843019</td>\n",
       "    </tr>\n",
       "  </tbody>\n",
       "</table>\n",
       "</div>"
      ],
      "text/plain": [
       "    m_guess      r-sq   base_rate         ad_1\n",
       "22      120  0.586075  228.303722  1172.696278\n",
       "19      105  0.581465  199.765987  1167.234013\n",
       "20      110  0.574490  209.280092  1166.719908\n",
       "17       95  0.569032  180.743446  1147.256554\n",
       "10       60  0.564732  114.156981  1127.843019"
      ]
     },
     "execution_count": 8,
     "metadata": {},
     "output_type": "execute_result"
    }
   ],
   "source": [
    "results_df, X, Y = plot_results(df1, ads_run)\n",
    "results_df.nlargest(5, 'r-sq')"
   ]
  },
  {
   "cell_type": "markdown",
   "metadata": {},
   "source": [
    "We expect some noise due to discrete choices of $m$. This is due to the naïve assumption we made regarding which interval's expected registrations include the parameter estimate of lift (e.g.,  the ad runs in interval $t$, but interval $t$ does not capture the bulk of actual registrations due to lift).\n",
    "\n",
    "This isn't too disappointing a result. This very, very simple model gets us into the ballpark of the \"true\" ad effect time $M$ pretty quickly (reading left to right). "
   ]
  },
  {
   "cell_type": "markdown",
   "metadata": {},
   "source": [
    "### Closing thoughts on Single Ad World\n",
    "\n",
    "Initially, I thought that the configuration of the model (determined by the meta parameter) that yielded the highest $R^2$ would be a natural choice, but the variation due to the discrete choice of $m$ makes picking the \"right\" meta-parameter a little trickier.\n",
    "\n",
    "While we're not guaranteed that the choice of $m$ (the estimate for $M$) corresponding to the maximal $R^2$ is the closest approximation to the \"true\" ad effect, we can rely on the assumption that the effect of an ad yields a decaying effect post-runtime. \n",
    "\n",
    "Thus, even if we choose a systematically undersized $m$ (say, by roughly choosing $m$ where gains to $R^2$ begins to level off per the plot above), we generally are comfortable with this \"smoothing\" because we can capture the bulk of the ad effect near the ad runtime. Importantly, the lift estimator $\\beta_1$ is pretty good for these varying window sizes above a threshold as well, which makes the selection of a _perfect_ $m$ less important."
   ]
  },
  {
   "cell_type": "markdown",
   "metadata": {},
   "source": [
    "## Two Ad World, a toy-ish example\n",
    "\n",
    "Let's introduce a second ad of a different type to see the impact on our model. First, some housekeeping to keep the code somewhat generalizable for later cases."
   ]
  },
  {
   "cell_type": "markdown",
   "metadata": {},
   "source": [
    "### Two Ad World v1.0\n",
    "We start by constructing the first version of Two Ad World. For variety's sake, I assume that two ad types are run: the first is familiar (from Single Ad World) and the second is of a different variety (less effective) and run only once."
   ]
  },
  {
   "cell_type": "code",
   "execution_count": 9,
   "metadata": {},
   "outputs": [],
   "source": [
    "### Create new ad\n",
    "ad_2 = TVad('ad_2', lift_amount=LIFT//2, times_to_run=1)\n",
    "\n",
    "## Reduce to one list of registration times\n",
    "ads_run = [ad_1, ad_2]\n",
    "all_dts = [BASERATE_DTS] + [ad_x.get_reg_times() for ad_x in ads_run]\n",
    "\n",
    "### Put base registration and lift registration timestamps into dataframe\n",
    "df2 = pd.DataFrame(np.concatenate(all_dts), columns=['reg_time']).astype(\"datetime64\")"
   ]
  },
  {
   "cell_type": "markdown",
   "metadata": {},
   "source": [
    "We know _a priori_ what the total lift should be:"
   ]
  },
  {
   "cell_type": "code",
   "execution_count": 10,
   "metadata": {},
   "outputs": [
    {
     "data": {
      "text/plain": [
       "1711"
      ]
     },
     "execution_count": 10,
     "metadata": {},
     "output_type": "execute_result"
    }
   ],
   "source": [
    "total_expected_lift_all_ads = np.concatenate([ad_x.get_reg_times() for ad_x in ads_run]).size\n",
    "total_expected_lift_all_ads"
   ]
  },
  {
   "cell_type": "code",
   "execution_count": 11,
   "metadata": {},
   "outputs": [
    {
     "data": {
      "image/png": "[encoded data removed]",
      "text/plain": [
       "<Figure size 432x288 with 1 Axes>"
      ]
     },
     "metadata": {
      "needs_background": "light"
     },
     "output_type": "display_data"
    },
    {
     "data": {
      "text/html": [
       "<div>\n",
       "<style scoped>\n",
       "    .dataframe tbody tr th:only-of-type {\n",
       "        vertical-align: middle;\n",
       "    }\n",
       "\n",
       "    .dataframe tbody tr th {\n",
       "        vertical-align: top;\n",
       "    }\n",
       "\n",
       "    .dataframe thead th {\n",
       "        text-align: right;\n",
       "    }\n",
       "</style>\n",
       "<table border=\"1\" class=\"dataframe\">\n",
       "  <thead>\n",
       "    <tr style=\"text-align: right;\">\n",
       "      <th></th>\n",
       "      <th>m_guess</th>\n",
       "      <th>r-sq</th>\n",
       "      <th>base_rate</th>\n",
       "      <th>ad_1</th>\n",
       "      <th>ad_2</th>\n",
       "    </tr>\n",
       "  </thead>\n",
       "  <tbody>\n",
       "    <tr>\n",
       "      <th>22</th>\n",
       "      <td>120</td>\n",
       "      <td>0.639053</td>\n",
       "      <td>228.299909</td>\n",
       "      <td>1172.700091</td>\n",
       "      <td>586.700091</td>\n",
       "    </tr>\n",
       "    <tr>\n",
       "      <th>19</th>\n",
       "      <td>105</td>\n",
       "      <td>0.627213</td>\n",
       "      <td>199.771937</td>\n",
       "      <td>1167.228063</td>\n",
       "      <td>540.228063</td>\n",
       "    </tr>\n",
       "    <tr>\n",
       "      <th>13</th>\n",
       "      <td>75</td>\n",
       "      <td>0.619926</td>\n",
       "      <td>142.695689</td>\n",
       "      <td>1124.304311</td>\n",
       "      <td>577.304311</td>\n",
       "    </tr>\n",
       "    <tr>\n",
       "      <th>10</th>\n",
       "      <td>60</td>\n",
       "      <td>0.618721</td>\n",
       "      <td>114.157570</td>\n",
       "      <td>1127.842430</td>\n",
       "      <td>564.842430</td>\n",
       "    </tr>\n",
       "    <tr>\n",
       "      <th>16</th>\n",
       "      <td>90</td>\n",
       "      <td>0.618099</td>\n",
       "      <td>171.237239</td>\n",
       "      <td>1121.762761</td>\n",
       "      <td>565.762761</td>\n",
       "    </tr>\n",
       "  </tbody>\n",
       "</table>\n",
       "</div>"
      ],
      "text/plain": [
       "    m_guess      r-sq   base_rate         ad_1        ad_2\n",
       "22      120  0.639053  228.299909  1172.700091  586.700091\n",
       "19      105  0.627213  199.771937  1167.228063  540.228063\n",
       "13       75  0.619926  142.695689  1124.304311  577.304311\n",
       "10       60  0.618721  114.157570  1127.842430  564.842430\n",
       "16       90  0.618099  171.237239  1121.762761  565.762761"
      ]
     },
     "execution_count": 11,
     "metadata": {},
     "output_type": "execute_result"
    }
   ],
   "source": [
    "results_df, X, Y = plot_results(df2, ads_run)\n",
    "results_df.nlargest(5, 'r-sq')"
   ]
  },
  {
   "cell_type": "markdown",
   "metadata": {},
   "source": [
    "It is interesting to compare the differences in the models also when run under different interval assignment mechanisms. The default has been the aforementioned \"generous\" encoding (i.e., any interval $t$ that has a registrant exposed to an ad (estimated by our choice of $m$) will yield $X_t$ = 1 for said ad type), but the results below show how the results differ when \"strictly\" (i.e., for interval $t$, $X_t$ = 1 for said ad type _only if_ an ad runtime is in that interval) encoding:"
   ]
  },
  {
   "cell_type": "code",
   "execution_count": 12,
   "metadata": {},
   "outputs": [
    {
     "data": {
      "image/png": "[encoded data removed]",
      "text/plain": [
       "<Figure size 432x288 with 1 Axes>"
      ]
     },
     "metadata": {
      "needs_background": "light"
     },
     "output_type": "display_data"
    },
    {
     "data": {
      "text/html": [
       "<div>\n",
       "<style scoped>\n",
       "    .dataframe tbody tr th:only-of-type {\n",
       "        vertical-align: middle;\n",
       "    }\n",
       "\n",
       "    .dataframe tbody tr th {\n",
       "        vertical-align: top;\n",
       "    }\n",
       "\n",
       "    .dataframe thead th {\n",
       "        text-align: right;\n",
       "    }\n",
       "</style>\n",
       "<table border=\"1\" class=\"dataframe\">\n",
       "  <thead>\n",
       "    <tr style=\"text-align: right;\">\n",
       "      <th></th>\n",
       "      <th>m_guess</th>\n",
       "      <th>r-sq</th>\n",
       "      <th>base_rate</th>\n",
       "      <th>ad_1</th>\n",
       "      <th>ad_2</th>\n",
       "    </tr>\n",
       "  </thead>\n",
       "  <tbody>\n",
       "    <tr>\n",
       "      <th>22</th>\n",
       "      <td>120</td>\n",
       "      <td>0.639053</td>\n",
       "      <td>228.299909</td>\n",
       "      <td>1172.700091</td>\n",
       "      <td>586.700091</td>\n",
       "    </tr>\n",
       "    <tr>\n",
       "      <th>19</th>\n",
       "      <td>105</td>\n",
       "      <td>0.627213</td>\n",
       "      <td>199.771937</td>\n",
       "      <td>1167.228063</td>\n",
       "      <td>540.228063</td>\n",
       "    </tr>\n",
       "    <tr>\n",
       "      <th>13</th>\n",
       "      <td>75</td>\n",
       "      <td>0.619926</td>\n",
       "      <td>142.695689</td>\n",
       "      <td>1124.304311</td>\n",
       "      <td>577.304311</td>\n",
       "    </tr>\n",
       "    <tr>\n",
       "      <th>10</th>\n",
       "      <td>60</td>\n",
       "      <td>0.618721</td>\n",
       "      <td>114.157570</td>\n",
       "      <td>1127.842430</td>\n",
       "      <td>564.842430</td>\n",
       "    </tr>\n",
       "    <tr>\n",
       "      <th>16</th>\n",
       "      <td>90</td>\n",
       "      <td>0.618099</td>\n",
       "      <td>171.237239</td>\n",
       "      <td>1121.762761</td>\n",
       "      <td>565.762761</td>\n",
       "    </tr>\n",
       "  </tbody>\n",
       "</table>\n",
       "</div>"
      ],
      "text/plain": [
       "    m_guess      r-sq   base_rate         ad_1        ad_2\n",
       "22      120  0.639053  228.299909  1172.700091  586.700091\n",
       "19      105  0.627213  199.771937  1167.228063  540.228063\n",
       "13       75  0.619926  142.695689  1124.304311  577.304311\n",
       "10       60  0.618721  114.157570  1127.842430  564.842430\n",
       "16       90  0.618099  171.237239  1121.762761  565.762761"
      ]
     },
     "execution_count": 12,
     "metadata": {},
     "output_type": "execute_result"
    }
   ],
   "source": [
    "### Toggle generous encoding OFF\n",
    "GENEROUS_AD_TYPE_ENCODING = False\n",
    "\n",
    "results_df, X, Y = plot_results(df2, ads_run)\n",
    "\n",
    "### Toggle back to generous encoding\n",
    "GENEROUS_AD_TYPE_ENCODING = True\n",
    "\n",
    "\n",
    "results_df.nlargest(5, 'r-sq')"
   ]
  },
  {
   "cell_type": "markdown",
   "metadata": {},
   "source": [
    "### Two Ad World, v2.0\n",
    "\n",
    "Let's see if the model can begin to distinguish between ad effect sizes over multiple runs. \n",
    "\n",
    "We keep our two ad types (`ad_1`, `ad_2`), but now we run the second ad type multiple times throughout the year."
   ]
  },
  {
   "cell_type": "code",
   "execution_count": 13,
   "metadata": {},
   "outputs": [],
   "source": [
    "### Create new ad\n",
    "ad_2 = TVad('ad_2', lift_amount=LIFT//2, times_to_run=4)\n",
    "\n",
    "## Reduce to one list of registration times\n",
    "ads_run = [ad_1, ad_2]\n",
    "all_dts = [BASERATE_DTS] + [ad_x.get_reg_times() for ad_x in ads_run]\n",
    "\n",
    "### Put base registration and lift registration timestamps into dataframe\n",
    "df3 = pd.DataFrame(np.concatenate(all_dts), columns=['reg_time']).astype(\"datetime64\")"
   ]
  },
  {
   "cell_type": "markdown",
   "metadata": {},
   "source": [
    "We see here that we expect more lift (from the fact we're running the ad more times)."
   ]
  },
  {
   "cell_type": "code",
   "execution_count": 14,
   "metadata": {},
   "outputs": [
    {
     "data": {
      "text/plain": [
       "3421"
      ]
     },
     "execution_count": 14,
     "metadata": {},
     "output_type": "execute_result"
    }
   ],
   "source": [
    "total_expected_lift_all_ads = np.concatenate([ad_x.get_reg_times() for ad_x in ads_run]).size\n",
    "total_expected_lift_all_ads"
   ]
  },
  {
   "cell_type": "code",
   "execution_count": 15,
   "metadata": {},
   "outputs": [
    {
     "data": {
      "image/png": "[encoded data removed]",
      "text/plain": [
       "<Figure size 432x288 with 1 Axes>"
      ]
     },
     "metadata": {
      "needs_background": "light"
     },
     "output_type": "display_data"
    },
    {
     "data": {
      "text/html": [
       "<div>\n",
       "<style scoped>\n",
       "    .dataframe tbody tr th:only-of-type {\n",
       "        vertical-align: middle;\n",
       "    }\n",
       "\n",
       "    .dataframe tbody tr th {\n",
       "        vertical-align: top;\n",
       "    }\n",
       "\n",
       "    .dataframe thead th {\n",
       "        text-align: right;\n",
       "    }\n",
       "</style>\n",
       "<table border=\"1\" class=\"dataframe\">\n",
       "  <thead>\n",
       "    <tr style=\"text-align: right;\">\n",
       "      <th></th>\n",
       "      <th>m_guess</th>\n",
       "      <th>r-sq</th>\n",
       "      <th>base_rate</th>\n",
       "      <th>ad_1</th>\n",
       "      <th>ad_2</th>\n",
       "    </tr>\n",
       "  </thead>\n",
       "  <tbody>\n",
       "    <tr>\n",
       "      <th>22</th>\n",
       "      <td>120</td>\n",
       "      <td>0.551343</td>\n",
       "      <td>228.570482</td>\n",
       "      <td>1172.429518</td>\n",
       "      <td>555.929518</td>\n",
       "    </tr>\n",
       "    <tr>\n",
       "      <th>19</th>\n",
       "      <td>105</td>\n",
       "      <td>0.516247</td>\n",
       "      <td>199.997001</td>\n",
       "      <td>1167.002999</td>\n",
       "      <td>374.669666</td>\n",
       "    </tr>\n",
       "    <tr>\n",
       "      <th>20</th>\n",
       "      <td>110</td>\n",
       "      <td>0.490898</td>\n",
       "      <td>209.519899</td>\n",
       "      <td>1166.480101</td>\n",
       "      <td>378.146767</td>\n",
       "    </tr>\n",
       "    <tr>\n",
       "      <th>14</th>\n",
       "      <td>80</td>\n",
       "      <td>0.400836</td>\n",
       "      <td>152.381054</td>\n",
       "      <td>581.118946</td>\n",
       "      <td>558.618946</td>\n",
       "    </tr>\n",
       "    <tr>\n",
       "      <th>21</th>\n",
       "      <td>115</td>\n",
       "      <td>0.378912</td>\n",
       "      <td>219.046221</td>\n",
       "      <td>578.953779</td>\n",
       "      <td>374.953779</td>\n",
       "    </tr>\n",
       "  </tbody>\n",
       "</table>\n",
       "</div>"
      ],
      "text/plain": [
       "    m_guess      r-sq   base_rate         ad_1        ad_2\n",
       "22      120  0.551343  228.570482  1172.429518  555.929518\n",
       "19      105  0.516247  199.997001  1167.002999  374.669666\n",
       "20      110  0.490898  209.519899  1166.480101  378.146767\n",
       "14       80  0.400836  152.381054   581.118946  558.618946\n",
       "21      115  0.378912  219.046221   578.953779  374.953779"
      ]
     },
     "execution_count": 15,
     "metadata": {},
     "output_type": "execute_result"
    }
   ],
   "source": [
    "results_df, X, Y = plot_results(df3, ads_run)\n",
    "results_df.nlargest(5, 'r-sq')"
   ]
  }
 ],
 "metadata": {
  "kernelspec": {
   "display_name": "Python 3",
   "language": "python",
   "name": "python3"
  },
  "language_info": {
   "codemirror_mode": {
    "name": "ipython",
    "version": 3
   },
   "file_extension": ".py",
   "mimetype": "text/x-python",
   "name": "python",
   "nbconvert_exporter": "python",
   "pygments_lexer": "ipython3",
   "version": "3.6.7"
  },
  "toc": {
   "nav_menu": {},
   "number_sections": true,
   "sideBar": true,
   "skip_h1_title": true,
   "toc_cell": false,
   "toc_position": {},
   "toc_section_display": "block",
   "toc_window_display": false
  }
 },
 "nbformat": 4,
 "nbformat_minor": 2
}
